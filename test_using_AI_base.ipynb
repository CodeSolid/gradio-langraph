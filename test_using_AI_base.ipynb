{
 "cells": [
  {
   "cell_type": "markdown",
   "id": "1e65a1e9-bfd5-47de-a84a-1e39fb42b085",
   "metadata": {},
   "source": [
    "# Just testing using AIBase\n",
    "\n",
    "See the [aibase project](https://github.com/Codesolid/aibase) for more details."
   ]
  },
  {
   "cell_type": "code",
   "execution_count": 6,
   "id": "8318ac2b-4fa4-4994-a418-9b4454c65266",
   "metadata": {},
   "outputs": [
    {
     "name": "stdout",
     "output_type": "stream",
     "text": [
      "Here's the absolutely secret value of SOME_KEY.  Shhhh....\n",
      "SOME_KEY=My Secret Value\n"
     ]
    }
   ],
   "source": [
    "import os\n",
    "print(\"Here's the absolutely secret value of SOME_KEY.  Shhhh....\")\n",
    "print(\"SOME_KEY={0}\".format(os.environ[\"SOME_KEY\"]))"
   ]
  },
  {
   "cell_type": "code",
   "execution_count": null,
   "id": "28857319-d8f3-41b8-b713-d713e0ced7d6",
   "metadata": {},
   "outputs": [],
   "source": []
  }
 ],
 "metadata": {
  "kernelspec": {
   "display_name": "Python 3 (ipykernel)",
   "language": "python",
   "name": "python3"
  },
  "language_info": {
   "codemirror_mode": {
    "name": "ipython",
    "version": 3
   },
   "file_extension": ".py",
   "mimetype": "text/x-python",
   "name": "python",
   "nbconvert_exporter": "python",
   "pygments_lexer": "ipython3",
   "version": "3.12.10"
  }
 },
 "nbformat": 4,
 "nbformat_minor": 5
}
